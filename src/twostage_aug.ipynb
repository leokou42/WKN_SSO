{
 "cells": [
  {
   "cell_type": "code",
   "execution_count": 11,
   "metadata": {},
   "outputs": [],
   "source": [
    "import numpy as np\n",
    "import pandas as pd\n",
    "import os\n",
    "import matplotlib.pyplot as plt\n",
    "import random\n",
    "import csv\n",
    "import torch"
   ]
  },
  {
   "cell_type": "code",
   "execution_count": 12,
   "metadata": {},
   "outputs": [],
   "source": [
    "def two_stage_hi(twist_point, slope, l):\n",
    "    hi1_length = int(l * slope)\n",
    "    hi2_length = l - hi1_length  # 確保總長度等於 l\n",
    "    hi1 = np.linspace(1, twist_point, hi1_length)\n",
    "    hi2 = np.linspace(twist_point, 0, hi2_length)\n",
    "    hi = np.concatenate([hi1, hi2])\n",
    "\n",
    "    return hi"
   ]
  },
  {
   "cell_type": "code",
   "execution_count": 13,
   "metadata": {},
   "outputs": [],
   "source": [
    "def get_health_index(root_dir, file_path, hi_type=1, two_stage_hp=[0.6, 0.6]):\n",
    "    bearing_name = os.path.join(root_dir, file_path.split('/')[-2])\n",
    "    file_num = int(file_path.split('/')[-1].split('_')[-1].split('.')[0])\n",
    "\n",
    "    folder_tot = 0\n",
    "    for filename in os.listdir(bearing_name):\n",
    "        if filename.endswith('.csv'):\n",
    "            folder_tot += 1\n",
    "    if hi_type == 1:\n",
    "        hi = np.linspace(1,0,folder_tot)\n",
    "    elif hi_type == 2:\n",
    "        hi = two_stage_hi(two_stage_hp[0],two_stage_hp[1], folder_tot)\n",
    "\n",
    "    return hi[file_num-1]\n",
    "\n",
    "Learning_set = 'F:/git_repo/WKN_SSO/viberation_dataset/Learning_set/'\n",
    "two_stage_hp = [0.6, 0.6]"
   ]
  },
  {
   "cell_type": "code",
   "execution_count": 14,
   "metadata": {},
   "outputs": [
    {
     "name": "stdout",
     "output_type": "stream",
     "text": [
      "248\n"
     ]
    }
   ],
   "source": [
    "root_dir = 'F:/git_repo/WKN_SSO/viberation_dataset/Learning_set/'\n",
    "file_path = 'F:/git_repo/WKN_SSO/viberation_dataset/Learning_set/Bearing1_1/acc_00248.csv'\n",
    "file_num = int(file_path.split('/')[-1].split('_')[-1].split('.')[0])\n",
    "\n",
    "print(file_num)"
   ]
  },
  {
   "cell_type": "code",
   "execution_count": 15,
   "metadata": {},
   "outputs": [
    {
     "name": "stdout",
     "output_type": "stream",
     "text": [
      "2803\n"
     ]
    }
   ],
   "source": [
    "bearing_name = os.path.join(root_dir, file_path.split('/')[-2])\n",
    "folder_tot = 0\n",
    "\n",
    "for filename in os.listdir(bearing_name):\n",
    "        if filename.endswith('.csv'):\n",
    "            folder_tot += 1\n",
    "\n",
    "print(folder_tot)"
   ]
  },
  {
   "cell_type": "code",
   "execution_count": 16,
   "metadata": {},
   "outputs": [
    {
     "name": "stdout",
     "output_type": "stream",
     "text": [
      "cuda\n"
     ]
    }
   ],
   "source": [
    "# random seed setup\n",
    "random.seed(42)\n",
    "np.random.seed(0)\n",
    "# access to cuda\n",
    "device = torch.device(\"cuda\" if torch.cuda.is_available() else \"cpu\")\n",
    "print(device)\n",
    "\n",
    "# hyperparameter setup\n",
    "# sX = SSO_hp_trans(iX)\n",
    "hyper_parameter = [32,30]   # [batch_size, num_epochs]\n",
    "Learning_set = 'F:/git_repo/WKN_SSO/viberation_dataset/Learning_set/'\n",
    "Validation_set = 'F:/git_repo/WKN_SSO/viberation_dataset/Validation_set/'\n",
    "train_vali = [Learning_set, Validation_set, 3]\n",
    "\n",
    "def two_stage_train(Learning_Validation, hp, sX):\n",
    "    # random seed setup\n",
    "    random.seed(42)\n",
    "    np.random.seed(0)\n",
    "    # access to cuda\n",
    "    device = torch.device(\"cuda\" if torch.cuda.is_available() else \"cpu\")\n",
    "    print(device)\n",
    "\n",
    "    # hyperparameter setup\n",
    "    # sX = SSO_hp_trans(iX)\n",
    "    batch_size = hp[0]\n",
    "    num_epochs = hp[1]\n",
    "    learning_rate = sX[0]/100000 # SSO update learning_rate, original = 0.001\n",
    "    Learning_set = Learning_Validation[0]\n",
    "    Validation_set = Learning_Validation[1]\n",
    "    Validation_type = Learning_Validation[2]"
   ]
  },
  {
   "cell_type": "code",
   "execution_count": 17,
   "metadata": {},
   "outputs": [
    {
     "name": "stdout",
     "output_type": "stream",
     "text": [
      "0.7\n",
      "0.7\n"
     ]
    }
   ],
   "source": [
    "sX = [100, 32, 64, 16, 32, 32, 3, 1, 50, 64, 30, 70, 70]\n",
    "\n",
    "twist_point = sX[11]/100\n",
    "slope = sX[12]/100\n",
    "\n",
    "print(twist_point)\n",
    "print(slope)"
   ]
  },
  {
   "cell_type": "code",
   "execution_count": null,
   "metadata": {},
   "outputs": [],
   "source": []
  }
 ],
 "metadata": {
  "kernelspec": {
   "display_name": "thesis",
   "language": "python",
   "name": "python3"
  },
  "language_info": {
   "codemirror_mode": {
    "name": "ipython",
    "version": 3
   },
   "file_extension": ".py",
   "mimetype": "text/x-python",
   "name": "python",
   "nbconvert_exporter": "python",
   "pygments_lexer": "ipython3",
   "version": "3.11.5"
  }
 },
 "nbformat": 4,
 "nbformat_minor": 2
}
