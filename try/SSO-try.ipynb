{
 "cells": [
  {
   "cell_type": "code",
   "execution_count": 4,
   "metadata": {},
   "outputs": [],
   "source": [
    "import random\n",
    "import time\n",
    "import numpy as np"
   ]
  },
  {
   "cell_type": "code",
   "execution_count": 2,
   "metadata": {},
   "outputs": [],
   "source": [
    "def VAR_init(var, X): #_init\n",
    "    \n",
    "    if var in [0]: X[var] = random.randint(1, 512) # of hidden neurons\n",
    "    elif var in [1]: X[var] = random.randint(1, 99) # dropout ratio\n",
    "   \n",
    "    elif var in [2]:  X[var] = random.randint(1, 512) # of hidden neurons\n",
    "    elif var in [3]:  X[var] = random.randint(1, 99) # dropout ratio\n",
    "          \n",
    "    elif var in [4]:  X[var] = random.randint(1, 512) # of hidden neurons\n",
    "    elif var in [5]:  X[var] = random.randint(1, 99) # dropout ratio \n",
    "        \n",
    "    elif var in [6]:  X[var] = random.randint(1, 99)"
   ]
  },
  {
   "cell_type": "code",
   "execution_count": 6,
   "metadata": {},
   "outputs": [
    {
     "name": "stdout",
     "output_type": "stream",
     "text": [
      "----- sol_0 -----\n",
      "[151  59 356  94 324  26  75]\n",
      "----- sol_1 -----\n",
      "[340  85 223  96 316  56  52]\n",
      "----- sol_2 -----\n",
      "[193  45 249  54 333  99  53]\n",
      "----- sol_3 -----\n",
      "[408  56 408  28 352  48  96]\n",
      "----- sol_4 -----\n",
      "[ 81  65 442  79 371   4  59]\n"
     ]
    }
   ],
   "source": [
    "Nrun, Ngen, Nsol, Nvar = 30, 10, 5, 7\n",
    "pX = np.zeros([Nsol, Nvar], dtype = int)\n",
    "\n",
    "for run in range(0, Nrun):\n",
    "    X  = np.zeros([Nsol, Nvar], dtype = int)\n",
    "\n",
    "for sol in range(0, Nsol):\n",
    "    print(\"----- sol_{} -----\".format(sol))\n",
    "    for var in range(Nvar):\n",
    "        VAR_init(var, X[sol]) #_init           \n",
    "        pX[sol][var] = X[sol][var] # 每一個解的pbest\n",
    "    \n",
    "    print(X[sol])"
   ]
  },
  {
   "cell_type": "code",
   "execution_count": null,
   "metadata": {},
   "outputs": [],
   "source": [
    "def ORIGIN(X): #_init\n",
    "    global run, df\n",
    "    \n",
    "#     print(\"*****ORIGIN*****\\n\")\n",
    "    print(\"=============== ORIGIN ===============\")\n",
    "    \n",
    "    \n",
    "    X[0], X[1] = 10, 20\n",
    "    X[2], X[3] = 40, 20\n",
    "    X[4], X[5] = 100, 20\n",
    "    X[6] = 50        \n",
    "    \n",
    "    \n",
    "    t0   = time.process_time()\n",
    "    F[0] = Model(X)\n",
    "    t1   = time.process_time()\n",
    "    pT[0] = (t1 - t0)/60\n",
    "        \n",
    "    new_row = {'F': F[0], 'time': pT[0], \n",
    "               'pbest': F[0], 'pbest(var0)': X[0], 'pbest(var1)': X[1], 'pbest(var2)': X[2], \n",
    "               'pbest(var3)': X[3],'pbest(var4)': X[4], 'pbest(var5)': X[5], 'pbest(var6)': X[6],\n",
    "                'gbest(var0)': X[0], 'gbest(var1)': X[1], 'gbest(var2)': X[2], \n",
    "                'gbest(var3)': X[3],'gbest(var4)': X[4], 'gbest(var5)': X[5]\n",
    "                , 'gbest(var6)': X[6]}\n",
    "    df = df.append(new_row, ignore_index=True)\n",
    "    \n",
    "    print(\"Origin_sol_set: ({}, {}, {}, {}, {}, {}, {})\".format(X[0], X[1], X[2], X[3], X[4], X[5], X[6]))\n",
    "    print(\"sol_fitness: {:^.4f}\".format(F[0]))\n",
    "    print(\"time: {:^.2f} mins\\n\".format(pT[0]))\n",
    "\n"
   ]
  },
  {
   "cell_type": "code",
   "execution_count": null,
   "metadata": {},
   "outputs": [],
   "source": [
    "\n",
    "\n",
    "def SSO_init(X, F, pX, pF, Nsol, Nvar):\n",
    "    \n",
    "    global gBest, df\n",
    "    print(\"*****SSO_INIT*****\\n\")\n",
    "    print(\"=============== Generation_0 ===============\")\n",
    "    \n",
    "    for sol in range(0, Nsol):\n",
    "        print(\"----- sol_{} -----\".format(sol))\n",
    "        for var in range(Nvar):\n",
    "            VAR_init(var, X[sol]) #_init           \n",
    "            pX[sol][var] = X[sol][var] # 每一個解的pbest\n",
    "        #print(X[sol])\n",
    "        \n",
    "        t0 = time.process_time()\n",
    "        \n",
    "        \n",
    "        F[sol] = Model(X[sol])\n",
    "        pF[sol] = F[sol]\n",
    "                \n",
    "        t1 = time.process_time()\n",
    "        pT[sol] = (t1 - t0)/60\n",
    "        \n",
    "        print(\"Initialize sol_set_{}:({}, {}, {}, {}, {}, {}, {})\".format(sol, X[sol][0], X[sol][1], X[sol][2], X[sol][3], X[sol][4], X[sol][5], X[sol][6]))\n",
    "        print(\"Initialize pbest_fitness_{}: {:^.4f}\".format(sol, pF[sol]))\n",
    "        print(\"time: {:^.2f} mins\\n\".format(pT[sol]))\n",
    "        \n",
    "        if F[sol] > F[gBest]:\n",
    "            gBest = sol   \n",
    "        \n",
    "        new_row = {'gen': gen, 'sol': sol, 'F': F[sol], 'time': pT[sol], \n",
    "                   'pbest': pF[sol], 'pbest(var0)': pX[sol][0], 'pbest(var1)': pX[sol][1], 'pbest(var2)': pX[sol][2], \n",
    "                   'pbest(var3)': pX[sol][3],'pbest(var4)': pX[sol][4], 'pbest(var5)': pX[sol][5], 'pbest(var6)': pX[sol][6],\n",
    "                   'gbest(gen)': genBest, 'gbest(sol)': gBest, 'gbest(F)': pF[gBest], \n",
    "                    'gbest(var0)': pX[gBest][0], 'gbest(var1)': pX[gBest][1], 'gbest(var2)': pX[gBest][2], \n",
    "                   'gbest(var3)': pX[gBest][3],'gbest(var4)': pX[gBest][4], 'gbest(var5)': pX[gBest][5]\n",
    "                      ,'gbest(var6)': pX[gBest][6]}\n",
    "        df = df.append(new_row, ignore_index=True)\n",
    "        \n",
    "    print(\"Initialize gbest_fitness: {:^.4f}\\n\".format(F[gBest])) "
   ]
  }
 ],
 "metadata": {
  "kernelspec": {
   "display_name": "thesis",
   "language": "python",
   "name": "python3"
  },
  "language_info": {
   "codemirror_mode": {
    "name": "ipython",
    "version": 3
   },
   "file_extension": ".py",
   "mimetype": "text/x-python",
   "name": "python",
   "nbconvert_exporter": "python",
   "pygments_lexer": "ipython3",
   "version": "3.11.5"
  }
 },
 "nbformat": 4,
 "nbformat_minor": 2
}
