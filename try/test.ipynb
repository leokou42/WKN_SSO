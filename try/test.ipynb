{
 "cells": [
  {
   "cell_type": "code",
   "execution_count": null,
   "metadata": {},
   "outputs": [],
   "source": [
    "import torch\n",
    "import torch.nn as nn"
   ]
  },
  {
   "cell_type": "code",
   "execution_count": 2,
   "metadata": {},
   "outputs": [
    {
     "name": "stdout",
     "output_type": "stream",
     "text": [
      "1.3313353638003897\n"
     ]
    }
   ],
   "source": [
    "from math import pi\n",
    "C = pow(pi, 0.25)\n",
    "print(C)"
   ]
  },
  {
   "cell_type": "code",
   "execution_count": null,
   "metadata": {},
   "outputs": [],
   "source": [
    "def Morlet(p):\n",
    "    C = pow(pi, 0.25)\n",
    "    # p = 0.03 * p\n",
    "    y = C * torch.exp(-torch.pow(p, 2) / 2) * torch.cos(2 * pi * p)\n",
    "    return y"
   ]
  },
  {
   "cell_type": "code",
   "execution_count": null,
   "metadata": {},
   "outputs": [],
   "source": [
    "\n",
    "class SelfAttentionModel(nn.Module):\n",
    "    def __init__(self, input_dim, hidden_dim):\n",
    "        super(SelfAttentionModel, self).__init__()\n",
    "        # 線性層用於對特徵嵌入進行線性轉換\n",
    "        self.linear = nn.Linear(input_dim, hidden_dim)\n",
    "        # 自注意力機制層\n",
    "        self.attention = nn.MultiheadAttention(embed_dim=hidden_dim, num_heads=1)\n",
    "        \n",
    "    def forward(self, x):\n",
    "        # 進行特徵嵌入的線性轉換\n",
    "        x = self.linear(x)\n",
    "        # 使用自注意力機制\n",
    "        x, _ = self.attention(x, x, x)  # 對輸入x應用自注意力機制\n",
    "        return x\n",
    "\n",
    "# 創建模型\n",
    "input_dim = 10  # 假設每個時間步有10個特徵\n",
    "hidden_dim = 64  # 隱藏層維度\n",
    "model = SelfAttentionModel(input_dim, hidden_dim)\n",
    "\n",
    "# 輸入示例數據，這是一個批次大小為3，時間步數為5，特徵維度為10的數據\n",
    "input_data = torch.rand(3, 5, 10)  # (batch_size, time_steps, input_dim)\n",
    "\n",
    "# 前向傳播\n",
    "output = model(input_data)\n",
    "\n",
    "# 查看輸出形狀\n",
    "print(output.shape)  # 將顯示 torch.Size([3, 5, 64])"
   ]
  },
  {
   "cell_type": "code",
   "execution_count": null,
   "metadata": {},
   "outputs": [],
   "source": [
    "\n",
    "class WaveletKernelNetwork(nn.Module):\n",
    "    def __init__(self, input_dim, hidden_dim):\n",
    "        super(WaveletKernelNetwork, self).__init()\n",
    "        # Wavelet Kernel Network 部分，你可以根據需求擴展這部分\n",
    "        self.wkn_layer = nn.Sequential(\n",
    "            nn.Conv1d(input_dim, hidden_dim, kernel_size=3, padding=1),\n",
    "            nn.ReLU(),\n",
    "            nn.MaxPool1d(kernel_size=2)\n",
    "        )\n",
    "        \n",
    "    def forward(self, x):\n",
    "        x = self.wkn_layer(x)\n",
    "        return x\n",
    "\n",
    "class SelfAttentionModel(nn.Module):\n",
    "    def __init__(self, input_dim, hidden_dim):\n",
    "        super(SelfAttentionModel, self).__init()\n",
    "        # 線性層用於對特徵嵌入進行線性轉換\n",
    "        self.linear = nn.Linear(input_dim, hidden_dim)\n",
    "        # 自注意力機制層\n",
    "        self.attention = nn.MultiheadAttention(embed_dim=hidden_dim, num_heads=1)\n",
    "        \n",
    "    def forward(self, x):\n",
    "        # 進行特徵嵌入的線性轉換\n",
    "        x = self.linear(x)\n",
    "        # 使用自注意力機制\n",
    "        x, _ = self.attention(x, x, x)  # 對輸入x應用自注意力機制\n",
    "        return x\n",
    "\n",
    "class WKN_LSTM_SelfAttention(nn.Module):\n",
    "    def __init__(self, input_dim, hidden_dim, output_dim):\n",
    "        super(WKN_LSTM_SelfAttention, self).__init()\n",
    "        # Wavelet Kernel Network 部分\n",
    "        self.wkn = WaveletKernelNetwork(input_dim, hidden_dim)\n",
    "        # LSTM 層\n",
    "        self.lstm = nn.LSTM(hidden_dim, hidden_dim, batch_first=True)\n",
    "        # 自注意力層\n",
    "        self.self_attention = SelfAttentionModel(hidden_dim, hidden_dim)\n",
    "        # 全連接層\n",
    "        self.fc = nn.Linear(hidden_dim, output_dim)\n",
    "        \n",
    "    def forward(self, x):\n",
    "        # Wavelet Kernel Network 部分\n",
    "        x = self.wkn(x)\n",
    "        # LSTM 層\n",
    "        x, _ = self.lstm(x)\n",
    "        # 自注意力層\n",
    "        x = self.self_attention(x)\n",
    "        # 全連接層\n",
    "        x = self.fc(x)\n",
    "        return x\n"
   ]
  },
  {
   "cell_type": "code",
   "execution_count": 3,
   "metadata": {},
   "outputs": [
    {
     "name": "stdout",
     "output_type": "stream",
     "text": [
      "(1802, 2560)\n"
     ]
    }
   ],
   "source": [
    "import pandas as pd\n",
    "import numpy as np\n",
    "import os\n",
    "from sklearn.preprocessing import MinMaxScaler\n",
    "\n",
    "folder_name = './viberation_dataset/Test_set/Bearing1_3/'\n",
    "files = [file for file in sorted(os.listdir(folder_name)) if 'acc' in file]\n",
    "# print(files)\n",
    "\n",
    "hrz_data_list = []\n",
    "for file in files:\n",
    "    df_hrz = pd.read_csv(f'{folder_name}/{file}', header=None)\n",
    "    df_hrz = df_hrz[4]\n",
    "    hrz_data_list.append(df_hrz) \n",
    "\n",
    "hrz_data = np.array(hrz_data_list)\n",
    "scaler = MinMaxScaler(feature_range=(-1, 1))\n",
    "hrz_data = scaler.fit_transform(hrz_data)\n",
    "print(hrz_data.shape)\n"
   ]
  },
  {
   "cell_type": "code",
   "execution_count": 6,
   "metadata": {},
   "outputs": [
    {
     "name": "stdout",
     "output_type": "stream",
     "text": [
      "[[ 0.2676105   0.34155955  0.30330634 ... -0.25097847 -0.07131609\n",
      "  -0.00240481]\n",
      " [ 0.35877072  0.44335904  0.26889339 ... -0.59246575 -0.43622047\n",
      "  -0.11142285]\n",
      " [ 0.47479282  0.6075407   0.55634278 ...  0.44178082  0.49876265\n",
      "   0.1511022 ]\n",
      " ...\n",
      " [ 0.00690608  0.24250214  0.44568151 ...  0.35714286  0.49786277\n",
      "   0.22725451]\n",
      " [ 0.17610497  0.14481577  0.07253711 ... -0.04305284 -0.15860517\n",
      "  -0.15991984]\n",
      " [ 0.1426105   0.30831191  0.23650472 ... -0.31800391 -0.03172103\n",
      "  -0.1743487 ]]\n"
     ]
    }
   ],
   "source": [
    "print(hrz_data)"
   ]
  },
  {
   "cell_type": "code",
   "execution_count": 4,
   "metadata": {},
   "outputs": [
    {
     "name": "stdout",
     "output_type": "stream",
     "text": [
      "(4613120,)\n"
     ]
    }
   ],
   "source": [
    "hrz_data_1d = hrz_data.reshape(-1)\n",
    "print(hrz_data_1d.shape)"
   ]
  },
  {
   "cell_type": "code",
   "execution_count": 7,
   "metadata": {},
   "outputs": [
    {
     "name": "stdout",
     "output_type": "stream",
     "text": [
      "[ 0.2676105   0.34155955  0.30330634 ... -0.31800391 -0.03172103\n",
      " -0.1743487 ]\n"
     ]
    }
   ],
   "source": [
    "print(hrz_data_1d)"
   ]
  },
  {
   "cell_type": "code",
   "execution_count": 9,
   "metadata": {},
   "outputs": [
    {
     "name": "stdout",
     "output_type": "stream",
     "text": [
      "[1.00000000e+00 9.99999783e-01 9.99999566e-01 ... 4.33546154e-07\n",
      " 2.16773077e-07 0.00000000e+00]\n"
     ]
    }
   ],
   "source": [
    "import pandas as pd\n",
    "import numpy as np\n",
    "import os\n",
    "from sklearn.preprocessing import MinMaxScaler\n",
    "\n",
    "folder_name = './viberation_dataset/Test_set/Bearing1_3/'\n",
    "files = [file for file in sorted(os.listdir(folder_name)) if 'acc' in file]\n",
    "        \n",
    "df_points = 0\n",
    "for file in files:\n",
    "    df = pd.read_csv(f'{folder_name}/{file}', header=None)\n",
    "    df_points += len(df)\n",
    "\n",
    "label_data = np.linspace(1, 0, df_points)\n",
    "\n",
    "print(label_data)"
   ]
  },
  {
   "cell_type": "code",
   "execution_count": 10,
   "metadata": {},
   "outputs": [
    {
     "data": {
      "text/plain": [
       "(4613120,)"
      ]
     },
     "execution_count": 10,
     "metadata": {},
     "output_type": "execute_result"
    }
   ],
   "source": [
    "label_data.shape"
   ]
  },
  {
   "cell_type": "code",
   "execution_count": 7,
   "metadata": {},
   "outputs": [
    {
     "name": "stdout",
     "output_type": "stream",
     "text": [
      "LA_WKN_BiGRU(\n",
      "  (WKN): Sequential(\n",
      "    (0): Laplace_fast()\n",
      "    (1): MaxPool1d(kernel_size=2, stride=2, padding=0, dilation=1, ceil_mode=False)\n",
      "    (2): Conv1d(32, 16, kernel_size=(32,), stride=(1,), padding=same)\n",
      "    (3): MaxPool1d(kernel_size=2, stride=2, padding=0, dilation=1, ceil_mode=False)\n",
      "    (4): Conv1d(16, 32, kernel_size=(3,), stride=(1,), padding=same)\n",
      "    (5): MaxPool1d(kernel_size=2, stride=2, padding=0, dilation=1, ceil_mode=False)\n",
      "  )\n",
      "  (BiGRU): GRU(32, 8, bidirectional=True)\n",
      "  (FC): Sequential(\n",
      "    (0): Flatten(start_dim=1, end_dim=-1)\n",
      "    (1): Linear(in_features=5120, out_features=64, bias=True)\n",
      "    (2): ReLU()\n",
      "    (3): Dropout(p=0.5, inplace=False)\n",
      "    (4): Linear(in_features=64, out_features=1, bias=True)\n",
      "    (5): Sigmoid()\n",
      "  )\n",
      ")\n"
     ]
    }
   ],
   "source": [
    "from src.model import *\n",
    "import numpy as np\n",
    "import torch\n",
    "\n",
    "model = LA_WKN_BiGRU()\n",
    "# model = Laplace_fast(32,64)\n",
    "\n",
    "print(model)\n"
   ]
  },
  {
   "cell_type": "code",
   "execution_count": 5,
   "metadata": {},
   "outputs": [
    {
     "name": "stdout",
     "output_type": "stream",
     "text": [
      "torch.Size([1, 2560])\n"
     ]
    },
    {
     "data": {
      "text/plain": [
       "tensor([[0.5357]], grad_fn=<SigmoidBackward0>)"
      ]
     },
     "execution_count": 5,
     "metadata": {},
     "output_type": "execute_result"
    }
   ],
   "source": [
    "a = np.random.rand(1, 2560)\n",
    "a = torch.from_numpy(a.astype(np.float32))\n",
    "print(a.shape)\n",
    "\n",
    "y = model(a)\n",
    "y"
   ]
  },
  {
   "cell_type": "code",
   "execution_count": 8,
   "metadata": {},
   "outputs": [
    {
     "name": "stdout",
     "output_type": "stream",
     "text": [
      "torch.Size([1, 2560])\n"
     ]
    }
   ],
   "source": [
    "c = Laplace(a)\n",
    "# s = (c).view(32, 1, 63)\n",
    "print(c.shape)"
   ]
  },
  {
   "cell_type": "code",
   "execution_count": 18,
   "metadata": {},
   "outputs": [
    {
     "data": {
      "text/plain": [
       "torch.Size([32, 63])"
      ]
     },
     "execution_count": 18,
     "metadata": {},
     "output_type": "execute_result"
    }
   ],
   "source": [
    "out_channels = 32\n",
    "a_ = nn.Parameter(torch.linspace(1, 10, out_channels)).view(-1, 1)\n",
    "b_ = nn.Parameter(torch.linspace(0, 10, out_channels)).view(-1, 1)\n",
    "\n",
    "time_disc = torch.linspace(0, 1, steps=int((63)))\n",
    "p1 = time_disc.unsqueeze(0) - b_ / a_\n",
    "laplace_filter = Laplace(p1)\n",
    "\n",
    "laplace_filter.shape"
   ]
  },
  {
   "cell_type": "code",
   "execution_count": null,
   "metadata": {},
   "outputs": [],
   "source": []
  }
 ],
 "metadata": {
  "kernelspec": {
   "display_name": "thesis",
   "language": "python",
   "name": "python3"
  },
  "language_info": {
   "codemirror_mode": {
    "name": "ipython",
    "version": 3
   },
   "file_extension": ".py",
   "mimetype": "text/x-python",
   "name": "python",
   "nbconvert_exporter": "python",
   "pygments_lexer": "ipython3",
   "version": "3.11.5"
  }
 },
 "nbformat": 4,
 "nbformat_minor": 2
}
