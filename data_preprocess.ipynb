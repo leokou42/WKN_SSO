{
 "cells": [
  {
   "cell_type": "code",
   "execution_count": 29,
   "metadata": {},
   "outputs": [],
   "source": [
    "import pandas as pd\n",
    "import numpy as np\n",
    "import os\n",
    "import matplotlib.pyplot as plt\n",
    "# from .feature_utils import time_domain_features\n",
    "# from .mahalanobis_distance import mahalanobis_distance\n",
    "\n",
    "from sklearn.preprocessing import MinMaxScaler\n",
    "\n",
    "# import torch.nn as nn\n",
    "# import torch.utils.model_zoo as model_zoo\n",
    "# import torch\n",
    "# from math import pi\n",
    "# import torch.nn.functional as F"
   ]
  },
  {
   "cell_type": "code",
   "execution_count": 30,
   "metadata": {},
   "outputs": [
    {
     "name": "stdout",
     "output_type": "stream",
     "text": [
      "2803\n"
     ]
    }
   ],
   "source": [
    "combined_data = pd.DataFrame(columns=[\"小時\", \"分\", \"秒\", \"毫秒\", \"垂直加速度\", \"水平加速度\"])\n",
    "\n",
    "data_list = []\n",
    "folder_name = './viberation_dataset/Learning_set/Bearing1_1/'\n",
    "files = [file for file in sorted(os.listdir(folder_name)) if 'acc' in file]\n",
    "print(len(files))\n"
   ]
  },
  {
   "cell_type": "code",
   "execution_count": 31,
   "metadata": {},
   "outputs": [
    {
     "name": "stdout",
     "output_type": "stream",
     "text": [
      "(2803, 2560)\n",
      "[[ 0.02160102 -0.11314751 -0.0797902  ... -0.33393533 -0.01268369\n",
      "  -0.17226443]\n",
      " [-0.06632783 -0.19753086 -0.09541346 ... -0.28414173  0.01460812\n",
      "  -0.11331351]\n",
      " [-0.02223634 -0.18951254 -0.11204107 ... -0.30460956 -0.00813506\n",
      "  -0.09973204]\n",
      " ...\n",
      " [-0.05463787  0.18111238  0.46657739 ... -0.40608875 -0.09420924\n",
      "  -0.14979995]\n",
      " [-1.         -0.25416826  0.03024216 ... -0.49578603 -0.09963261\n",
      "  -0.37018684]\n",
      " [ 0.03481576 -0.33180603 -0.33980583 ... -0.73142415 -0.30554584\n",
      "  -0.36130382]]\n"
     ]
    }
   ],
   "source": [
    "files = [file for file in sorted(os.listdir(folder_name)) if 'acc' in file]\n",
    "    \n",
    "hrz_data_list = []\n",
    "for file in files:\n",
    "    df_hrz = pd.read_csv(f'{folder_name}/{file}', header=None)\n",
    "    df_hrz = df_hrz[4]\n",
    "    hrz_data_list.append(df_hrz)\n",
    "    \n",
    "hrz_data = np.array(hrz_data_list)\n",
    "scaler = MinMaxScaler(feature_range=(-1, 1))\n",
    "normalized_data = scaler.fit_transform(hrz_data)\n",
    "\n",
    "print(normalized_data.shape)\n",
    "print(normalized_data)"
   ]
  },
  {
   "cell_type": "code",
   "execution_count": 33,
   "metadata": {},
   "outputs": [
    {
     "name": "stdout",
     "output_type": "stream",
     "text": [
      "<class 'numpy.ndarray'>\n",
      "[ 0.02160102 -0.11314751 -0.0797902  ... -0.33393533 -0.01268369\n",
      " -0.17226443]\n"
     ]
    }
   ],
   "source": [
    "print(type(normalized_data))\n",
    "print(normalized_data[0])"
   ]
  },
  {
   "cell_type": "code",
   "execution_count": null,
   "metadata": {},
   "outputs": [],
   "source": [
    "df_hrz = pd.read_csv(f'{folder_name}/{files[0]}', header=None)\n",
    "# print(df_hrz[4])\n",
    "hrz_a = df_hrz[4]\n",
    "print(hrz_a)\n",
    "\n",
    "plt.figure(figsize=(10, 6))\n",
    "plt.plot(hrz_a)\n",
    "plt.xlabel('number of data')\n",
    "plt.ylabel('Horiz. accel.')\n",
    "plt.title('raw signal data')\n",
    "plt.grid(True)\n",
    "plt.show()"
   ]
  },
  {
   "cell_type": "code",
   "execution_count": null,
   "metadata": {},
   "outputs": [],
   "source": [
    "folder_name = './viberation_dataset/Learning_set/Bearing1_1/'\n",
    "files = [file for file in sorted(os.listdir(folder_name)) if 'acc' in file]\n",
    "files = files[0:3]\n",
    "\n",
    "hrz_data_list = []\n",
    "for file in files:\n",
    "    df_hrz = pd.read_csv(f'{folder_name}/{file}', header=None)\n",
    "    df_hrz = df_hrz[4]\n",
    "    hrz_data_list.append(df_hrz) \n",
    "hrz_data = np.array(hrz_data_list)\n",
    "\n",
    "scaler = MinMaxScaler(feature_range=(-1, 1))\n",
    "normalized_data = scaler.fit_transform(hrz_data)\n",
    "\n",
    "print(normalized_data.shape)\n",
    "print(normalized_data)"
   ]
  },
  {
   "cell_type": "code",
   "execution_count": null,
   "metadata": {},
   "outputs": [],
   "source": [
    "folder_name = './viberation_dataset/Learning_set/Bearing1_1/'\n",
    "files = [file for file in sorted(os.listdir(folder_name)) if 'acc' in file]\n",
    "files = files[0:3]\n",
    "df_points = 0\n",
    "for file in files:\n",
    "    df = pd.read_csv(f'{folder_name}/{file}', header=None)\n",
    "    df_points += len(df)\n",
    "\n",
    "label_data = np.linspace(1, 0, df_points)\n",
    "\n",
    "plot =  True\n",
    "if plot:\n",
    "    plt.figure(figsize=(10, 6))\n",
    "    plt.plot(label_data)\n",
    "    plt.xlabel('number of data')\n",
    "    plt.ylabel('Horiz. accel.')\n",
    "    plt.title('raw signal data')\n",
    "    plt.grid(True)\n",
    "    plt.show()"
   ]
  },
  {
   "cell_type": "code",
   "execution_count": null,
   "metadata": {},
   "outputs": [],
   "source": [
    "import torch\n",
    "import torch.nn as nn\n",
    "\n",
    "class CNNLSTMModel(nn.Module):\n",
    "    def __init__(self, num_classes, input_size=2560):\n",
    "        super(CNNLSTMModel, self).__init()\n",
    "        \n",
    "        # 定义CNN部分\n",
    "        self.cnn = nn.Sequential(\n",
    "            nn.Conv1d(1, 64, kernel_size=3, padding=1),\n",
    "            nn.ReLU(),\n",
    "            nn.MaxPool1d(kernel_size=2, stride=2),\n",
    "            nn.Conv1d(64, 128, kernel_size=3, padding=1),\n",
    "            nn.ReLU(),\n",
    "            nn.MaxPool1d(kernel_size=2, stride=2)\n",
    "        )\n",
    "        \n",
    "        # 定义LSTM部分\n",
    "        self.lstm = nn.LSTM(input_size=128, hidden_size=256, num_layers=2, batch_first=True)\n",
    "        \n",
    "        # 全连接层\n",
    "        self.fc = nn.Linear(256, num_classes)\n",
    "        \n",
    "    def forward(self, x):\n",
    "        # 输入x的形状应该是 [batch_size, input_size, num_channels]\n",
    "        batch_size, input_size, num_channels = x.size()\n",
    "        \n",
    "        # CNN部分的前向传播\n",
    "        x = x.permute(0, 2, 1)  # 将数据变形为 [batch_size, num_channels, input_size]\n",
    "        x = self.cnn(x)\n",
    "        x = x.permute(0, 2, 1)  # 恢复形状\n",
    "        \n",
    "        # LSTM部分的前向传播\n",
    "        lstm_out, _ = self.lstm(x)\n",
    "        \n",
    "        # 获取LSTM输出的最后一帧\n",
    "        lstm_out = lstm_out[:, -1, :]\n",
    "        \n",
    "        # 全连接层\n",
    "        output = self.fc(lstm_out)\n",
    "        \n",
    "        return output\n"
   ]
  },
  {
   "cell_type": "code",
   "execution_count": null,
   "metadata": {},
   "outputs": [],
   "source": [
    "import torch\n",
    "\n",
    "# 创建随机数据\n",
    "random_data = torch.randn(1, 1, 2560)  # 1个样本，1个通道，2560个时间步\n"
   ]
  },
  {
   "cell_type": "code",
   "execution_count": null,
   "metadata": {},
   "outputs": [],
   "source": []
  }
 ],
 "metadata": {
  "kernelspec": {
   "display_name": "thesis",
   "language": "python",
   "name": "python3"
  },
  "language_info": {
   "codemirror_mode": {
    "name": "ipython",
    "version": 3
   },
   "file_extension": ".py",
   "mimetype": "text/x-python",
   "name": "python",
   "nbconvert_exporter": "python",
   "pygments_lexer": "ipython3",
   "version": "3.11.5"
  }
 },
 "nbformat": 4,
 "nbformat_minor": 2
}
