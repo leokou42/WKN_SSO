{
 "cells": [
  {
   "cell_type": "code",
   "execution_count": 10,
   "metadata": {},
   "outputs": [],
   "source": [
    "import pandas as pd\n",
    "import numpy as np\n",
    "import os\n",
    "import matplotlib.pyplot as plt\n",
    "# from .feature_utils import time_domain_features\n",
    "# from .mahalanobis_distance import mahalanobis_distance"
   ]
  },
  {
   "cell_type": "code",
   "execution_count": 17,
   "metadata": {},
   "outputs": [
    {
     "name": "stdout",
     "output_type": "stream",
     "text": [
      "2803\n"
     ]
    }
   ],
   "source": [
    "combined_data = pd.DataFrame(columns=[\"小時\", \"分\", \"秒\", \"毫秒\", \"垂直加速度\", \"水平加速度\"])\n",
    "\n",
    "data_list = []\n",
    "folder_name = './viberation_dataset/Learning_set/Bearing1_1/'\n",
    "files = [file for file in sorted(os.listdir(folder_name)) if 'acc' in file]\n",
    "print(len(files))\n"
   ]
  },
  {
   "cell_type": "code",
   "execution_count": 18,
   "metadata": {},
   "outputs": [],
   "source": [
    "for file in files :\n",
    "    df = pd.read_csv(f'{folder_name}/{file}', header=None)\n",
    "    df = df.drop(5, axis=1)\n",
    "    index = df.iloc[:, -1].argmax()\n",
    "    df = df.iloc[index, :].to_frame().T\n",
    "\n",
    "    data_list += df.values.tolist()\n",
    "    \n",
    "data = np.array(data_list)"
   ]
  },
  {
   "cell_type": "code",
   "execution_count": 28,
   "metadata": {},
   "outputs": [
    {
     "name": "stdout",
     "output_type": "stream",
     "text": [
      "<class 'numpy.ndarray'>\n",
      "14015\n"
     ]
    }
   ],
   "source": [
    "print(type(data))\n",
    "print(data.size)"
   ]
  },
  {
   "cell_type": "code",
   "execution_count": 31,
   "metadata": {},
   "outputs": [
    {
     "name": "stdout",
     "output_type": "stream",
     "text": [
      "[[9.0000e+00 3.9000e+01 3.9000e+01 1.5605e+05 2.0100e+00]\n",
      " [9.0000e+00 3.9000e+01 4.9000e+01 1.1316e+05 1.7250e+00]\n",
      " [9.0000e+00 3.9000e+01 5.9000e+01 8.1640e+04 1.7760e+00]\n",
      " [9.0000e+00 4.0000e+01 9.0000e+00 1.4172e+05 1.8780e+00]\n",
      " [9.0000e+00 4.0000e+01 1.9000e+01 1.3766e+05 1.7670e+00]\n",
      " [9.0000e+00 4.0000e+01 2.9000e+01 1.0590e+05 1.8520e+00]\n",
      " [9.0000e+00 4.0000e+01 3.9000e+01 1.3457e+05 1.8740e+00]\n",
      " [9.0000e+00 4.0000e+01 4.9000e+01 8.8554e+04 1.8890e+00]\n",
      " [9.0000e+00 4.0000e+01 5.9000e+01 1.5109e+05 2.1010e+00]\n",
      " [9.0000e+00 4.1000e+01 9.0000e+00 1.2047e+05 1.7380e+00]\n",
      " [9.0000e+00 4.1000e+01 1.9000e+01 1.1793e+05 2.5420e+00]\n",
      " [9.0000e+00 4.1000e+01 2.9000e+01 9.6093e+04 1.9160e+00]\n",
      " [9.0000e+00 4.1000e+01 3.9000e+01 1.3016e+05 1.7920e+00]\n",
      " [9.0000e+00 4.1000e+01 4.9000e+01 1.0152e+05 2.0090e+00]\n",
      " [9.0000e+00 4.1000e+01 5.9000e+01 8.8007e+04 1.6950e+00]]\n"
     ]
    }
   ],
   "source": [
    "print(data[:15])"
   ]
  },
  {
   "cell_type": "code",
   "execution_count": null,
   "metadata": {},
   "outputs": [],
   "source": []
  }
 ],
 "metadata": {
  "kernelspec": {
   "display_name": "thesis",
   "language": "python",
   "name": "python3"
  },
  "language_info": {
   "codemirror_mode": {
    "name": "ipython",
    "version": 3
   },
   "file_extension": ".py",
   "mimetype": "text/x-python",
   "name": "python",
   "nbconvert_exporter": "python",
   "pygments_lexer": "ipython3",
   "version": "3.11.5"
  }
 },
 "nbformat": 4,
 "nbformat_minor": 2
}
