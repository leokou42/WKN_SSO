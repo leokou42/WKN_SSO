{
 "cells": [
  {
   "cell_type": "code",
   "execution_count": 1,
   "metadata": {},
   "outputs": [],
   "source": [
    "import torch\n",
    "import torch.nn as nn"
   ]
  },
  {
   "cell_type": "code",
   "execution_count": 2,
   "metadata": {},
   "outputs": [
    {
     "name": "stdout",
     "output_type": "stream",
     "text": [
      "torch.Size([3, 5, 64])\n"
     ]
    }
   ],
   "source": [
    "\n",
    "class SelfAttentionModel(nn.Module):\n",
    "    def __init__(self, input_dim, hidden_dim):\n",
    "        super(SelfAttentionModel, self).__init__()\n",
    "        # 線性層用於對特徵嵌入進行線性轉換\n",
    "        self.linear = nn.Linear(input_dim, hidden_dim)\n",
    "        # 自注意力機制層\n",
    "        self.attention = nn.MultiheadAttention(embed_dim=hidden_dim, num_heads=1)\n",
    "        \n",
    "    def forward(self, x):\n",
    "        # 進行特徵嵌入的線性轉換\n",
    "        x = self.linear(x)\n",
    "        # 使用自注意力機制\n",
    "        x, _ = self.attention(x, x, x)  # 對輸入x應用自注意力機制\n",
    "        return x\n",
    "\n",
    "# 創建模型\n",
    "input_dim = 10  # 假設每個時間步有10個特徵\n",
    "hidden_dim = 64  # 隱藏層維度\n",
    "model = SelfAttentionModel(input_dim, hidden_dim)\n",
    "\n",
    "# 輸入示例數據，這是一個批次大小為3，時間步數為5，特徵維度為10的數據\n",
    "input_data = torch.rand(3, 5, 10)  # (batch_size, time_steps, input_dim)\n",
    "\n",
    "# 前向傳播\n",
    "output = model(input_data)\n",
    "\n",
    "# 查看輸出形狀\n",
    "print(output.shape)  # 將顯示 torch.Size([3, 5, 64])"
   ]
  },
  {
   "cell_type": "code",
   "execution_count": 3,
   "metadata": {},
   "outputs": [],
   "source": [
    "\n",
    "class WaveletKernelNetwork(nn.Module):\n",
    "    def __init__(self, input_dim, hidden_dim):\n",
    "        super(WaveletKernelNetwork, self).__init()\n",
    "        # Wavelet Kernel Network 部分，你可以根據需求擴展這部分\n",
    "        self.wkn_layer = nn.Sequential(\n",
    "            nn.Conv1d(input_dim, hidden_dim, kernel_size=3, padding=1),\n",
    "            nn.ReLU(),\n",
    "            nn.MaxPool1d(kernel_size=2)\n",
    "        )\n",
    "        \n",
    "    def forward(self, x):\n",
    "        x = self.wkn_layer(x)\n",
    "        return x\n",
    "\n",
    "class SelfAttentionModel(nn.Module):\n",
    "    def __init__(self, input_dim, hidden_dim):\n",
    "        super(SelfAttentionModel, self).__init()\n",
    "        # 線性層用於對特徵嵌入進行線性轉換\n",
    "        self.linear = nn.Linear(input_dim, hidden_dim)\n",
    "        # 自注意力機制層\n",
    "        self.attention = nn.MultiheadAttention(embed_dim=hidden_dim, num_heads=1)\n",
    "        \n",
    "    def forward(self, x):\n",
    "        # 進行特徵嵌入的線性轉換\n",
    "        x = self.linear(x)\n",
    "        # 使用自注意力機制\n",
    "        x, _ = self.attention(x, x, x)  # 對輸入x應用自注意力機制\n",
    "        return x\n",
    "\n",
    "class WKN_LSTM_SelfAttention(nn.Module):\n",
    "    def __init__(self, input_dim, hidden_dim, output_dim):\n",
    "        super(WKN_LSTM_SelfAttention, self).__init()\n",
    "        # Wavelet Kernel Network 部分\n",
    "        self.wkn = WaveletKernelNetwork(input_dim, hidden_dim)\n",
    "        # LSTM 層\n",
    "        self.lstm = nn.LSTM(hidden_dim, hidden_dim, batch_first=True)\n",
    "        # 自注意力層\n",
    "        self.self_attention = SelfAttentionModel(hidden_dim, hidden_dim)\n",
    "        # 全連接層\n",
    "        self.fc = nn.Linear(hidden_dim, output_dim)\n",
    "        \n",
    "    def forward(self, x):\n",
    "        # Wavelet Kernel Network 部分\n",
    "        x = self.wkn(x)\n",
    "        # LSTM 層\n",
    "        x, _ = self.lstm(x)\n",
    "        # 自注意力層\n",
    "        x = self.self_attention(x)\n",
    "        # 全連接層\n",
    "        x = self.fc(x)\n",
    "        return x\n"
   ]
  }
 ],
 "metadata": {
  "kernelspec": {
   "display_name": "thesis",
   "language": "python",
   "name": "python3"
  },
  "language_info": {
   "codemirror_mode": {
    "name": "ipython",
    "version": 3
   },
   "file_extension": ".py",
   "mimetype": "text/x-python",
   "name": "python",
   "nbconvert_exporter": "python",
   "pygments_lexer": "ipython3",
   "version": "3.11.5"
  }
 },
 "nbformat": 4,
 "nbformat_minor": 2
}
